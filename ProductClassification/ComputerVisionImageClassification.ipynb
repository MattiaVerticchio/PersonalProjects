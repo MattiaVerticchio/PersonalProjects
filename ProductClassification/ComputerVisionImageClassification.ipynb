{
  "nbformat": 4,
  "nbformat_minor": 0,
  "metadata": {
    "colab": {
      "name": "ComputerVisionImageClassification.ipynb",
      "provenance": [],
      "include_colab_link": true
    },
    "kernelspec": {
      "name": "python3",
      "display_name": "Python 3"
    },
    "accelerator": "GPU"
  },
  "cells": [
    {
      "cell_type": "markdown",
      "metadata": {
        "id": "view-in-github",
        "colab_type": "text"
      },
      "source": [
        "<a href=\"https://colab.research.google.com/github/MattiaVerticchio/PersonalProjects/blob/master/ProductClassification/ComputerVisionImageClassification.ipynb\" target=\"_parent\"><img src=\"https://colab.research.google.com/assets/colab-badge.svg\" alt=\"Open In Colab\"/></a>"
      ]
    },
    {
      "cell_type": "markdown",
      "metadata": {
        "id": "AXKTEi8vZyEc"
      },
      "source": [
        "# Classifying Product Images via Deep Learning\n",
        "\n",
        "> **Abstract**\n",
        ">\n",
        "> The objective of this notebook is to classify images of the products contained in the Zalando Research Dataset. The dataset contains grayscale images and ten different categories of products. The framework chosen for the task is Auto-Keras, using Keras and TensorFlow as backend. We’ll search for a neural architecture that fits our project and compare it to the official [Zalando Research benchmark](http://fashion-mnist.s3-website.eu-central-1.amazonaws.com). The results are in line with the benchmark, and the accuracy metric is 3% higher."
      ]
    },
    {
      "cell_type": "markdown",
      "metadata": {
        "id": "ihrW7xP1Z8UL"
      },
      "source": [
        "## Framework setup\n",
        "As the central framework for this task, we’ll use [Auto-Keras](https://arxiv.org/abs/1806.10282). It’s an efficient neural architecture search system developed by DATA Lab at Texas A&M University. It leverages a variant of Bayesian Optimization to guide deep neural network morphism and find the optimal architecture for our task and dataset, using Keras and TensorFlow as backend.\n",
        "First, we have to install it with its dependency, [Keras-Tuner](https://keras-team.github.io/keras-tuner/), which is the hyperparameter optimization library used by Auto-Keras."
      ]
    },
    {
      "cell_type": "code",
      "metadata": {
        "id": "9CcXH344qh3E"
      },
      "source": [
        "%%bash\n",
        "pip install -q git+https://github.com/keras-team/keras-tuner.git@1.0.2rc1 autokeras"
      ],
      "execution_count": null,
      "outputs": []
    },
    {
      "cell_type": "markdown",
      "metadata": {
        "id": "tyc5sLftaGkr"
      },
      "source": [
        "## Imports\n",
        "Now we can import the TensorFlow dataset loading tool and Auto-Keras, as well as plotting tools to examine the dataset. "
      ]
    },
    {
      "cell_type": "code",
      "metadata": {
        "id": "EdZi9XY3sUH1"
      },
      "source": [
        "from tensorflow.keras.datasets import fashion_mnist  # Dataset loading tool\n",
        "import autokeras as ak                               # Learning library\n",
        "import matplotlib.pyplot as plt                      # Visualization tools\n",
        "%matplotlib inline                                   # Notebook settings\n",
        "%config InlineBackend.figure_format = 'retina'       # High resolution plots"
      ],
      "execution_count": null,
      "outputs": []
    },
    {
      "cell_type": "markdown",
      "metadata": {
        "id": "MV5SvsqIaIhs"
      },
      "source": [
        "## Loading the data\n",
        "We can now load the dataset into four NumPy arrays."
      ]
    },
    {
      "cell_type": "code",
      "metadata": {
        "id": "4KCtGI9zqX6N",
        "outputId": "53ac9f82-5e0d-4784-c642-59c24f6ac13b",
        "colab": {
          "base_uri": "https://localhost:8080/",
          "height": 161
        }
      },
      "source": [
        "(x_train, y_train), (x_test, y_test) = fashion_mnist.load_data()"
      ],
      "execution_count": null,
      "outputs": [
        {
          "output_type": "stream",
          "text": [
            "Downloading data from https://storage.googleapis.com/tensorflow/tf-keras-datasets/train-labels-idx1-ubyte.gz\n",
            "32768/29515 [=================================] - 0s 0us/step\n",
            "Downloading data from https://storage.googleapis.com/tensorflow/tf-keras-datasets/train-images-idx3-ubyte.gz\n",
            "26427392/26421880 [==============================] - 0s 0us/step\n",
            "Downloading data from https://storage.googleapis.com/tensorflow/tf-keras-datasets/t10k-labels-idx1-ubyte.gz\n",
            "8192/5148 [===============================================] - 0s 0us/step\n",
            "Downloading data from https://storage.googleapis.com/tensorflow/tf-keras-datasets/t10k-images-idx3-ubyte.gz\n",
            "4423680/4422102 [==============================] - 0s 0us/step\n"
          ],
          "name": "stdout"
        }
      ]
    },
    {
      "cell_type": "markdown",
      "metadata": {
        "id": "wfxX80RGhOMe"
      },
      "source": [
        "The arrays `x_train` and `x_test` contain the images as matrixes of grey pixels (in the range 0–255). `y_train` and `y_test` store the class of each image according to the following map."
      ]
    },
    {
      "cell_type": "code",
      "metadata": {
        "id": "tVmgxwt6g016"
      },
      "source": [
        "label_map = {\n",
        "    0: 'T-shirt/top',\n",
        "    1: 'Trouser',\n",
        "    2: 'Pullover',\n",
        "    3: 'Dress',\n",
        "    4: 'Coat',\n",
        "    5: 'Sandal',\n",
        "    6: 'Shirt',\n",
        "    7: 'Sneaker',\n",
        "    8: 'Bag',\n",
        "    9: 'Ankle boot'\n",
        "}"
      ],
      "execution_count": null,
      "outputs": []
    },
    {
      "cell_type": "markdown",
      "metadata": {
        "id": "9fyJuIQFgofi"
      },
      "source": [
        "Let’s plot a couple of examples."
      ]
    },
    {
      "cell_type": "code",
      "metadata": {
        "id": "n8dyD5qBiZVW"
      },
      "source": [
        "def plot(n):                              # Function to plot\n",
        "    plt.imshow(x_train[n]);               # N-th image\n",
        "    plt.title(label_map.get(y_train[n]))  # Adding the title from dictionary map\n",
        "    plt.colorbar();                       # Adding legend bar"
      ],
      "execution_count": null,
      "outputs": []
    },
    {
      "cell_type": "code",
      "metadata": {
        "id": "acVNKVybfJcy",
        "outputId": "330dc9d6-109e-4c92-f916-46324084061f",
        "colab": {
          "base_uri": "https://localhost:8080/",
          "height": 280
        }
      },
      "source": [
        "plot(0)"
      ],
      "execution_count": null,
      "outputs": [
        {
          "output_type": "display_data",
          "data": {
            "image/png": "[encoded data removed]",
            "text/plain": [
              "<Figure size 432x288 with 2 Axes>"
            ]
          },
          "metadata": {
            "tags": [],
            "image/png": {
              "width": 305,
              "height": 263
            },
            "needs_background": "light"
          }
        }
      ]
    },
    {
      "cell_type": "code",
      "metadata": {
        "id": "aQmadxVkfySV",
        "outputId": "39846877-dac8-4357-c543-187e050a80cf",
        "colab": {
          "base_uri": "https://localhost:8080/",
          "height": 280
        }
      },
      "source": [
        "plot(1)"
      ],
      "execution_count": null,
      "outputs": [
        {
          "output_type": "display_data",
          "data": {
            "image/png": "[encoded data removed]",
            "text/plain": [
              "<Figure size 432x288 with 2 Axes>"
            ]
          },
          "metadata": {
            "tags": [],
            "image/png": {
              "width": 305,
              "height": 263
            },
            "needs_background": "light"
          }
        }
      ]
    },
    {
      "cell_type": "markdown",
      "metadata": {
        "id": "ERvOnoX0aNkk"
      },
      "source": [
        "## Building the model\n",
        "`ImageClassifier` is the class that initializes the model search. Here I set the number of `trials` to avoid taking too much time for model exploration, but it can be any positive integer. It explores different model architectures by tree-based Bayesian Optimization search. We’ll try only the first one as it’s time-consuming on Google Colab’s GPU, where I’m running this notebook."
      ]
    },
    {
      "cell_type": "code",
      "metadata": {
        "id": "ESIL74CvsanY"
      },
      "source": [
        "trials = 1\n",
        "\n",
        "clf = ak.ImageClassifier(             # Initialize the ImageClassifier\n",
        "    num_classes=None,                 # Infer the number of classes\n",
        "    multi_label=False,                # Only one output\n",
        "    loss='categorical_crossentropy',  # Select the loss metric\n",
        "    metrics='accuracy',               # Metric to watch\n",
        "    project_name='image_classifier',  # Name of the folder\n",
        "    max_trials=trials,                # Just try one model\n",
        "    directory=None,                   # Automatic folder creation\n",
        "    objective='val_loss',             # Validation set crossentropy\n",
        "    tuner=None,                       # Automatic hyperparameter tuner selection\n",
        "    overwrite=True,                   # Don't load previous experiments\n",
        "    seed=42                           # Set a seed to replicate the experiment\n",
        ")"
      ],
      "execution_count": null,
      "outputs": []
    },
    {
      "cell_type": "markdown",
      "metadata": {
        "id": "23ad2HOWaSSr"
      },
      "source": [
        "### Neural Architecture Search\n",
        "It’s all ready to start exploring the models."
      ]
    },
    {
      "cell_type": "code",
      "metadata": {
        "id": "mnU33Boxsd1-",
        "outputId": "44b7c567-1be5-483f-de14-696202ea3438",
        "colab": {
          "base_uri": "https://localhost:8080/",
          "height": 665
        }
      },
      "source": [
        "clf.fit(                   # Fit the model\n",
        "    x=x_train,             # Training features\n",
        "    y=y_train,             # Training labels\n",
        "    epochs=None,           # Automatic number of epochs\n",
        "    callbacks=None,        # No callbacks\n",
        "    validation_split=0.2,  # Validation data split\n",
        "    validation_data=None   # Use a portion of training data\n",
        ")"
      ],
      "execution_count": null,
      "outputs": [
        {
          "output_type": "stream",
          "text": [
            "Trial 1 Complete [00h 02m 33s]\n",
            "val_loss: 0.2193739414215088\n",
            "\n",
            "Best val_loss So Far: 0.2193739414215088\n",
            "Total elapsed time: 00h 02m 33s\n",
            "INFO:tensorflow:Oracle triggered exit\n",
            "Epoch 1/15\n",
            "1875/1875 [==============================] - 6s 3ms/step - loss: 0.4301 - accuracy: 0.8457\n",
            "Epoch 2/15\n",
            "1875/1875 [==============================] - 6s 3ms/step - loss: 0.3134 - accuracy: 0.8887\n",
            "Epoch 3/15\n",
            "1875/1875 [==============================] - 6s 3ms/step - loss: 0.2775 - accuracy: 0.9012\n",
            "Epoch 4/15\n",
            "1875/1875 [==============================] - 6s 3ms/step - loss: 0.2567 - accuracy: 0.9069\n",
            "Epoch 5/15\n",
            "1875/1875 [==============================] - 6s 3ms/step - loss: 0.2413 - accuracy: 0.9120\n",
            "Epoch 6/15\n",
            "1875/1875 [==============================] - 6s 3ms/step - loss: 0.2318 - accuracy: 0.9145\n",
            "Epoch 7/15\n",
            "1875/1875 [==============================] - 6s 3ms/step - loss: 0.2208 - accuracy: 0.9195\n",
            "Epoch 8/15\n",
            "1875/1875 [==============================] - 6s 3ms/step - loss: 0.2120 - accuracy: 0.9214\n",
            "Epoch 9/15\n",
            "1875/1875 [==============================] - 6s 3ms/step - loss: 0.2082 - accuracy: 0.9232\n",
            "Epoch 10/15\n",
            "1875/1875 [==============================] - 6s 3ms/step - loss: 0.2029 - accuracy: 0.9258\n",
            "Epoch 11/15\n",
            "1875/1875 [==============================] - 6s 3ms/step - loss: 0.1965 - accuracy: 0.9269\n",
            "Epoch 12/15\n",
            "1875/1875 [==============================] - 6s 3ms/step - loss: 0.1954 - accuracy: 0.9275\n",
            "Epoch 13/15\n",
            "1875/1875 [==============================] - 6s 3ms/step - loss: 0.1915 - accuracy: 0.9295\n",
            "Epoch 14/15\n",
            "1875/1875 [==============================] - 6s 3ms/step - loss: 0.1858 - accuracy: 0.9323\n",
            "Epoch 15/15\n",
            "1875/1875 [==============================] - 6s 3ms/step - loss: 0.1819 - accuracy: 0.9327\n"
          ],
          "name": "stdout"
        }
      ]
    },
    {
      "cell_type": "markdown",
      "metadata": {
        "id": "_jLeFe0-jzOg"
      },
      "source": [
        "We can now export the model. It’s a convolutional multi-layer neural network with the following architecture."
      ]
    },
    {
      "cell_type": "code",
      "metadata": {
        "id": "rRILCwvjZgwx",
        "outputId": "aa1bba15-996c-4b1d-8bf1-c67ac0cfabff",
        "colab": {
          "base_uri": "https://localhost:8080/",
          "height": 521
        }
      },
      "source": [
        "model = clf.export_model()\n",
        "model.summary()"
      ],
      "execution_count": null,
      "outputs": [
        {
          "output_type": "stream",
          "text": [
            "Model: \"functional_1\"\n",
            "_________________________________________________________________\n",
            "Layer (type)                 Output Shape              Param #   \n",
            "=================================================================\n",
            "input_1 (InputLayer)         [(None, 28, 28, 1)]       0         \n",
            "_________________________________________________________________\n",
            "normalization (Normalization (None, 28, 28, 1)         3         \n",
            "_________________________________________________________________\n",
            "conv2d (Conv2D)              (None, 26, 26, 32)        320       \n",
            "_________________________________________________________________\n",
            "conv2d_1 (Conv2D)            (None, 24, 24, 64)        18496     \n",
            "_________________________________________________________________\n",
            "max_pooling2d (MaxPooling2D) (None, 12, 12, 64)        0         \n",
            "_________________________________________________________________\n",
            "dropout (Dropout)            (None, 12, 12, 64)        0         \n",
            "_________________________________________________________________\n",
            "flatten (Flatten)            (None, 9216)              0         \n",
            "_________________________________________________________________\n",
            "dropout_1 (Dropout)          (None, 9216)              0         \n",
            "_________________________________________________________________\n",
            "dense (Dense)                (None, 10)                92170     \n",
            "_________________________________________________________________\n",
            "classification_head_1 (Softm (None, 10)                0         \n",
            "=================================================================\n",
            "Total params: 110,989\n",
            "Trainable params: 110,986\n",
            "Non-trainable params: 3\n",
            "_________________________________________________________________\n"
          ],
          "name": "stdout"
        }
      ]
    },
    {
      "cell_type": "markdown",
      "metadata": {
        "id": "9lLLv3JaagjE"
      },
      "source": [
        "## Testing the model\n",
        "The benchmark chosen for this dataset is the accuracy reported on [the official Zalando Research website](http://fashion-mnist.s3-website.eu-central-1.amazonaws.com). The best accuracy is 0.897, scored by a C-Support Vector Classification model.\n",
        "\n",
        "Let’s now test the model on the holdout test set."
      ]
    },
    {
      "cell_type": "code",
      "metadata": {
        "id": "yNPIv3ZLsfch",
        "outputId": "785ee860-05c6-4774-9c6c-7dcf4a779303",
        "colab": {
          "base_uri": "https://localhost:8080/",
          "height": 35
        }
      },
      "source": [
        "current = clf.evaluate(x_test, y_test)"
      ],
      "execution_count": null,
      "outputs": [
        {
          "output_type": "stream",
          "text": [
            "313/313 [==============================] - 1s 2ms/step - loss: 0.2249 - accuracy: 0.9239\n"
          ],
          "name": "stdout"
        }
      ]
    },
    {
      "cell_type": "code",
      "metadata": {
        "id": "Vmac0sC6akPD",
        "outputId": "f0563549-c2b5-474c-bd9a-5918ec44fc64",
        "colab": {
          "base_uri": "https://localhost:8080/",
          "height": 35
        }
      },
      "source": [
        "previous = 0.897\n",
        "improvement = (current[1] - previous) * 100\n",
        "\n",
        "print(f'The accuracy improved by {round(improvement, 1)}%.')"
      ],
      "execution_count": null,
      "outputs": [
        {
          "output_type": "stream",
          "text": [
            "The accuracy improved by 2.7%.\n"
          ],
          "name": "stdout"
        }
      ]
    },
    {
      "cell_type": "markdown",
      "metadata": {
        "id": "1LjaSRIQnY8i"
      },
      "source": [
        "We scored an accuracy of ~92% with only one model explored, outperforming the benchmark by almost 3%. "
      ]
    }
  ]
}