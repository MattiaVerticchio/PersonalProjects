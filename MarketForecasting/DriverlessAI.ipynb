{
  "nbformat": 4,
  "nbformat_minor": 0,
  "metadata": {
    "accelerator": "GPU",
    "colab": {
      "name": "DriverlessAI.ipynb",
      "provenance": [],
      "collapsed_sections": [],
      "include_colab_link": true
    },
    "kernelspec": {
      "display_name": "Python 3",
      "language": "python",
      "name": "python3"
    }
  },
  "cells": [
    {
      "cell_type": "markdown",
      "metadata": {
        "id": "view-in-github",
        "colab_type": "text"
      },
      "source": [
        "<a href=\"https://colab.research.google.com/github/MattiaVerticchio/PersonalProjects/blob/master/MarketForecasting/DriverlessAI.ipynb\" target=\"_parent\"><img src=\"https://colab.research.google.com/assets/colab-badge.svg\" alt=\"Open In Colab\"/></a>"
      ]
    },
    {
      "cell_type": "markdown",
      "metadata": {
        "id": "Qwgpk8oIPVkb"
      },
      "source": [
        "# Driverless AI instance"
      ]
    },
    {
      "cell_type": "code",
      "metadata": {
        "id": "xS4hs78mAZhD"
      },
      "source": [
        "# Driverless AI license key\n",
        "LICENSE_KEY = 'Your license key'\n",
        "\n",
        "# ngrok tunnel key\n",
        "NGROK_AUTH = 'Your ngrok key'"
      ],
      "execution_count": null,
      "outputs": []
    },
    {
      "cell_type": "code",
      "metadata": {
        "id": "KFs57E-6hM8l",
        "colab": {
          "background_save": true
        }
      },
      "source": [
        "%%capture\n",
        "\n",
        "# Driverless AI version and install script paths\n",
        "DAI_SH = 'dai-1.9.0.3-linux-x86_64.sh'\n",
        "PATH = 'https://s3.amazonaws.com/artifacts.h2o.ai/releases/ai/'\\\n",
        "       'h2o/dai/rel-1.9.0-16/x86_64-centos7/'\n",
        "DAI_URL = PATH + DAI_SH\n",
        "\n",
        "# Install folder and license file\n",
        "! mkdir /root/.driverlessai\n",
        "! echo $LICENSE_KEY >> /root/.driverlessai/license.sig\n",
        "\n",
        "# Update the repositories\n",
        "! apt update\n",
        "# Install Driverless AI dependencies\n",
        "! apt install -y  axel graphviz libcairo2 libpango1.0-0 opencl-headers clinfo ocl-icd-opencl-dev\n",
        "\n",
        "# Set up Nvidia OpenCL\n",
        "! mkdir -p /etc/OpenCL/vendors\n",
        "! echo \"libnvidia-opencl.so.1\" > /etc/OpenCL/vendors/nvidia.icd\n",
        "\n",
        "# Download and run the Driverless AI script\n",
        "! axel -q $DAI_URL\n",
        "! chmod 755 $DAI_SH && ./$DAI_SH"
      ],
      "execution_count": null,
      "outputs": []
    },
    {
      "cell_type": "code",
      "metadata": {
        "id": "WLMvzmo4I2G2",
        "colab": {
          "background_save": true
        }
      },
      "source": [
        "%%capture\n",
        "\n",
        "# Install ngrok\n",
        "NGROK_PATH = 'https://bin.equinox.io/c/4VmDzA7iaHb/'\n",
        "NGROK_ZIP = 'ngrok-stable-linux-amd64.zip'\n",
        "NGROK_URL = NGROK_PATH + NGROK_ZIP\n",
        "! axel -q $NGROK_URL\n",
        "! unzip -qq -n $NGROK_ZIP"
      ],
      "execution_count": null,
      "outputs": []
    },
    {
      "cell_type": "code",
      "metadata": {
        "id": "8MnDqhLPDsP1"
      },
      "source": [
        "from time import sleep\n",
        "from IPython.display import clear_output\n",
        "import requests\n",
        "import json\n",
        "\n",
        "# keep everything running\n",
        "i=0\n",
        "while True:\n",
        "  try:\n",
        "    # start driverless\n",
        "    if len(get_ipython().getoutput('ps -ef | grep h2oai')) <= 2:\n",
        "      ! nvidia-smi -pm 1\n",
        "      ! /content/dai-1.9.0.3-linux-x86_64/run-dai.sh\n",
        "      sleep(5)\n",
        "      \n",
        "    ngrok_link = json.loads(requests.get('http://localhost:4040/api/tunnels').text)['tunnels'][0]['public_url']\n",
        "    print(ngrok_link)\n",
        "    print(\"Username: h2oai Password: h2oai\")  # Defaults\n",
        "    sleep(10)\n",
        "    requests.get(ngrok_link)\n",
        "  except (KeyboardInterrupt, SystemExit):\n",
        "      raise\n",
        "  except:\n",
        "    # create ngrok port\n",
        "    get_ipython().system_raw('./ngrok authtoken $NGROK_AUTH && ./ngrok http 12345 &')\n",
        "  i+=1\n",
        "  if i >=5:\n",
        "    clear_output(wait=True)\n",
        "    i=0\n"
      ],
      "execution_count": null,
      "outputs": []
    }
  ]
}